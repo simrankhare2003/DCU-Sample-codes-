{
 "cells": [
  {
   "cell_type": "code",
   "execution_count": null,
   "metadata": {
    "colab": {
     "base_uri": "https://localhost:8080/"
    },
    "id": "LJTBDfXbttJ5",
    "outputId": "5b8e8d47-9d88-44cb-beb7-facb033c9954"
   },
   "outputs": [
    {
     "name": "stdout",
     "output_type": "stream",
     "text": [
      "Requirement already satisfied: google-colab in /usr/local/lib/python3.10/dist-packages (1.0.0)\n",
      "Requirement already satisfied: google-auth==2.27.0 in /usr/local/lib/python3.10/dist-packages (from google-colab) (2.27.0)\n",
      "Requirement already satisfied: ipykernel==5.5.6 in /usr/local/lib/python3.10/dist-packages (from google-colab) (5.5.6)\n",
      "Requirement already satisfied: ipython==7.34.0 in /usr/local/lib/python3.10/dist-packages (from google-colab) (7.34.0)\n",
      "Requirement already satisfied: notebook==6.5.5 in /usr/local/lib/python3.10/dist-packages (from google-colab) (6.5.5)\n",
      "Requirement already satisfied: pandas==2.0.3 in /usr/local/lib/python3.10/dist-packages (from google-colab) (2.0.3)\n",
      "Requirement already satisfied: portpicker==1.5.2 in /usr/local/lib/python3.10/dist-packages (from google-colab) (1.5.2)\n",
      "Requirement already satisfied: requests==2.31.0 in /usr/local/lib/python3.10/dist-packages (from google-colab) (2.31.0)\n",
      "Requirement already satisfied: tornado==6.3.3 in /usr/local/lib/python3.10/dist-packages (from google-colab) (6.3.3)\n",
      "Requirement already satisfied: cachetools<6.0,>=2.0.0 in /usr/local/lib/python3.10/dist-packages (from google-auth==2.27.0->google-colab) (5.3.3)\n",
      "Requirement already satisfied: pyasn1-modules>=0.2.1 in /usr/local/lib/python3.10/dist-packages (from google-auth==2.27.0->google-colab) (0.4.0)\n",
      "Requirement already satisfied: rsa<5,>=3.1.4 in /usr/local/lib/python3.10/dist-packages (from google-auth==2.27.0->google-colab) (4.9)\n",
      "Requirement already satisfied: ipython-genutils in /usr/local/lib/python3.10/dist-packages (from ipykernel==5.5.6->google-colab) (0.2.0)\n",
      "Requirement already satisfied: traitlets>=4.1.0 in /usr/local/lib/python3.10/dist-packages (from ipykernel==5.5.6->google-colab) (5.7.1)\n",
      "Requirement already satisfied: jupyter-client in /usr/local/lib/python3.10/dist-packages (from ipykernel==5.5.6->google-colab) (6.1.12)\n",
      "Requirement already satisfied: setuptools>=18.5 in /usr/local/lib/python3.10/dist-packages (from ipython==7.34.0->google-colab) (67.7.2)\n",
      "Collecting jedi>=0.16 (from ipython==7.34.0->google-colab)\n",
      "  Downloading jedi-0.19.1-py2.py3-none-any.whl (1.6 MB)\n",
      "\u001b[2K     \u001b[90m━━━━━━━━━━━━━━━━━━━━━━━━━━━━━━━━━━━━━━━━\u001b[0m \u001b[32m1.6/1.6 MB\u001b[0m \u001b[31m7.3 MB/s\u001b[0m eta \u001b[36m0:00:00\u001b[0m\n",
      "\u001b[?25hRequirement already satisfied: decorator in /usr/local/lib/python3.10/dist-packages (from ipython==7.34.0->google-colab) (4.4.2)\n",
      "Requirement already satisfied: pickleshare in /usr/local/lib/python3.10/dist-packages (from ipython==7.34.0->google-colab) (0.7.5)\n",
      "Requirement already satisfied: prompt-toolkit!=3.0.0,!=3.0.1,<3.1.0,>=2.0.0 in /usr/local/lib/python3.10/dist-packages (from ipython==7.34.0->google-colab) (3.0.43)\n",
      "Requirement already satisfied: pygments in /usr/local/lib/python3.10/dist-packages (from ipython==7.34.0->google-colab) (2.16.1)\n",
      "Requirement already satisfied: backcall in /usr/local/lib/python3.10/dist-packages (from ipython==7.34.0->google-colab) (0.2.0)\n",
      "Requirement already satisfied: matplotlib-inline in /usr/local/lib/python3.10/dist-packages (from ipython==7.34.0->google-colab) (0.1.6)\n",
      "Requirement already satisfied: pexpect>4.3 in /usr/local/lib/python3.10/dist-packages (from ipython==7.34.0->google-colab) (4.9.0)\n",
      "Requirement already satisfied: jinja2 in /usr/local/lib/python3.10/dist-packages (from notebook==6.5.5->google-colab) (3.1.3)\n",
      "Requirement already satisfied: pyzmq<25,>=17 in /usr/local/lib/python3.10/dist-packages (from notebook==6.5.5->google-colab) (23.2.1)\n",
      "Requirement already satisfied: argon2-cffi in /usr/local/lib/python3.10/dist-packages (from notebook==6.5.5->google-colab) (23.1.0)\n",
      "Requirement already satisfied: jupyter-core>=4.6.1 in /usr/local/lib/python3.10/dist-packages (from notebook==6.5.5->google-colab) (5.7.2)\n",
      "Requirement already satisfied: nbformat in /usr/local/lib/python3.10/dist-packages (from notebook==6.5.5->google-colab) (5.10.3)\n",
      "Requirement already satisfied: nbconvert>=5 in /usr/local/lib/python3.10/dist-packages (from notebook==6.5.5->google-colab) (6.5.4)\n",
      "Requirement already satisfied: nest-asyncio>=1.5 in /usr/local/lib/python3.10/dist-packages (from notebook==6.5.5->google-colab) (1.6.0)\n",
      "Requirement already satisfied: Send2Trash>=1.8.0 in /usr/local/lib/python3.10/dist-packages (from notebook==6.5.5->google-colab) (1.8.2)\n",
      "Requirement already satisfied: terminado>=0.8.3 in /usr/local/lib/python3.10/dist-packages (from notebook==6.5.5->google-colab) (0.18.1)\n",
      "Requirement already satisfied: prometheus-client in /usr/local/lib/python3.10/dist-packages (from notebook==6.5.5->google-colab) (0.20.0)\n",
      "Requirement already satisfied: nbclassic>=0.4.7 in /usr/local/lib/python3.10/dist-packages (from notebook==6.5.5->google-colab) (1.0.0)\n",
      "Requirement already satisfied: python-dateutil>=2.8.2 in /usr/local/lib/python3.10/dist-packages (from pandas==2.0.3->google-colab) (2.8.2)\n",
      "Requirement already satisfied: pytz>=2020.1 in /usr/local/lib/python3.10/dist-packages (from pandas==2.0.3->google-colab) (2023.4)\n",
      "Requirement already satisfied: tzdata>=2022.1 in /usr/local/lib/python3.10/dist-packages (from pandas==2.0.3->google-colab) (2024.1)\n",
      "Requirement already satisfied: numpy>=1.21.0 in /usr/local/lib/python3.10/dist-packages (from pandas==2.0.3->google-colab) (1.25.2)\n",
      "Requirement already satisfied: psutil in /usr/local/lib/python3.10/dist-packages (from portpicker==1.5.2->google-colab) (5.9.5)\n",
      "Requirement already satisfied: charset-normalizer<4,>=2 in /usr/local/lib/python3.10/dist-packages (from requests==2.31.0->google-colab) (3.3.2)\n",
      "Requirement already satisfied: idna<4,>=2.5 in /usr/local/lib/python3.10/dist-packages (from requests==2.31.0->google-colab) (3.6)\n",
      "Requirement already satisfied: urllib3<3,>=1.21.1 in /usr/local/lib/python3.10/dist-packages (from requests==2.31.0->google-colab) (2.0.7)\n",
      "Requirement already satisfied: certifi>=2017.4.17 in /usr/local/lib/python3.10/dist-packages (from requests==2.31.0->google-colab) (2024.2.2)\n",
      "Requirement already satisfied: parso<0.9.0,>=0.8.3 in /usr/local/lib/python3.10/dist-packages (from jedi>=0.16->ipython==7.34.0->google-colab) (0.8.3)\n",
      "Requirement already satisfied: platformdirs>=2.5 in /usr/local/lib/python3.10/dist-packages (from jupyter-core>=4.6.1->notebook==6.5.5->google-colab) (4.2.0)\n",
      "Requirement already satisfied: jupyter-server>=1.8 in /usr/local/lib/python3.10/dist-packages (from nbclassic>=0.4.7->notebook==6.5.5->google-colab) (1.24.0)\n",
      "Requirement already satisfied: notebook-shim>=0.2.3 in /usr/local/lib/python3.10/dist-packages (from nbclassic>=0.4.7->notebook==6.5.5->google-colab) (0.2.4)\n",
      "Requirement already satisfied: lxml in /usr/local/lib/python3.10/dist-packages (from nbconvert>=5->notebook==6.5.5->google-colab) (4.9.4)\n",
      "Requirement already satisfied: beautifulsoup4 in /usr/local/lib/python3.10/dist-packages (from nbconvert>=5->notebook==6.5.5->google-colab) (4.12.3)\n",
      "Requirement already satisfied: bleach in /usr/local/lib/python3.10/dist-packages (from nbconvert>=5->notebook==6.5.5->google-colab) (6.1.0)\n",
      "Requirement already satisfied: defusedxml in /usr/local/lib/python3.10/dist-packages (from nbconvert>=5->notebook==6.5.5->google-colab) (0.7.1)\n",
      "Requirement already satisfied: entrypoints>=0.2.2 in /usr/local/lib/python3.10/dist-packages (from nbconvert>=5->notebook==6.5.5->google-colab) (0.4)\n",
      "Requirement already satisfied: jupyterlab-pygments in /usr/local/lib/python3.10/dist-packages (from nbconvert>=5->notebook==6.5.5->google-colab) (0.3.0)\n",
      "Requirement already satisfied: MarkupSafe>=2.0 in /usr/local/lib/python3.10/dist-packages (from nbconvert>=5->notebook==6.5.5->google-colab) (2.1.5)\n",
      "Requirement already satisfied: mistune<2,>=0.8.1 in /usr/local/lib/python3.10/dist-packages (from nbconvert>=5->notebook==6.5.5->google-colab) (0.8.4)\n",
      "Requirement already satisfied: nbclient>=0.5.0 in /usr/local/lib/python3.10/dist-packages (from nbconvert>=5->notebook==6.5.5->google-colab) (0.10.0)\n",
      "Requirement already satisfied: packaging in /usr/local/lib/python3.10/dist-packages (from nbconvert>=5->notebook==6.5.5->google-colab) (24.0)\n",
      "Requirement already satisfied: pandocfilters>=1.4.1 in /usr/local/lib/python3.10/dist-packages (from nbconvert>=5->notebook==6.5.5->google-colab) (1.5.1)\n",
      "Requirement already satisfied: tinycss2 in /usr/local/lib/python3.10/dist-packages (from nbconvert>=5->notebook==6.5.5->google-colab) (1.2.1)\n",
      "Requirement already satisfied: fastjsonschema in /usr/local/lib/python3.10/dist-packages (from nbformat->notebook==6.5.5->google-colab) (2.19.1)\n",
      "Requirement already satisfied: jsonschema>=2.6 in /usr/local/lib/python3.10/dist-packages (from nbformat->notebook==6.5.5->google-colab) (4.19.2)\n",
      "Requirement already satisfied: ptyprocess>=0.5 in /usr/local/lib/python3.10/dist-packages (from pexpect>4.3->ipython==7.34.0->google-colab) (0.7.0)\n",
      "Requirement already satisfied: wcwidth in /usr/local/lib/python3.10/dist-packages (from prompt-toolkit!=3.0.0,!=3.0.1,<3.1.0,>=2.0.0->ipython==7.34.0->google-colab) (0.2.13)\n",
      "Requirement already satisfied: pyasn1<0.7.0,>=0.4.6 in /usr/local/lib/python3.10/dist-packages (from pyasn1-modules>=0.2.1->google-auth==2.27.0->google-colab) (0.6.0)\n",
      "Requirement already satisfied: six>=1.5 in /usr/local/lib/python3.10/dist-packages (from python-dateutil>=2.8.2->pandas==2.0.3->google-colab) (1.16.0)\n",
      "Requirement already satisfied: argon2-cffi-bindings in /usr/local/lib/python3.10/dist-packages (from argon2-cffi->notebook==6.5.5->google-colab) (21.2.0)\n",
      "Requirement already satisfied: attrs>=22.2.0 in /usr/local/lib/python3.10/dist-packages (from jsonschema>=2.6->nbformat->notebook==6.5.5->google-colab) (23.2.0)\n",
      "Requirement already satisfied: jsonschema-specifications>=2023.03.6 in /usr/local/lib/python3.10/dist-packages (from jsonschema>=2.6->nbformat->notebook==6.5.5->google-colab) (2023.12.1)\n",
      "Requirement already satisfied: referencing>=0.28.4 in /usr/local/lib/python3.10/dist-packages (from jsonschema>=2.6->nbformat->notebook==6.5.5->google-colab) (0.34.0)\n",
      "Requirement already satisfied: rpds-py>=0.7.1 in /usr/local/lib/python3.10/dist-packages (from jsonschema>=2.6->nbformat->notebook==6.5.5->google-colab) (0.18.0)\n",
      "Requirement already satisfied: anyio<4,>=3.1.0 in /usr/local/lib/python3.10/dist-packages (from jupyter-server>=1.8->nbclassic>=0.4.7->notebook==6.5.5->google-colab) (3.7.1)\n",
      "Requirement already satisfied: websocket-client in /usr/local/lib/python3.10/dist-packages (from jupyter-server>=1.8->nbclassic>=0.4.7->notebook==6.5.5->google-colab) (1.7.0)\n",
      "Requirement already satisfied: cffi>=1.0.1 in /usr/local/lib/python3.10/dist-packages (from argon2-cffi-bindings->argon2-cffi->notebook==6.5.5->google-colab) (1.16.0)\n",
      "Requirement already satisfied: soupsieve>1.2 in /usr/local/lib/python3.10/dist-packages (from beautifulsoup4->nbconvert>=5->notebook==6.5.5->google-colab) (2.5)\n",
      "Requirement already satisfied: webencodings in /usr/local/lib/python3.10/dist-packages (from bleach->nbconvert>=5->notebook==6.5.5->google-colab) (0.5.1)\n",
      "Requirement already satisfied: sniffio>=1.1 in /usr/local/lib/python3.10/dist-packages (from anyio<4,>=3.1.0->jupyter-server>=1.8->nbclassic>=0.4.7->notebook==6.5.5->google-colab) (1.3.1)\n",
      "Requirement already satisfied: exceptiongroup in /usr/local/lib/python3.10/dist-packages (from anyio<4,>=3.1.0->jupyter-server>=1.8->nbclassic>=0.4.7->notebook==6.5.5->google-colab) (1.2.0)\n",
      "Requirement already satisfied: pycparser in /usr/local/lib/python3.10/dist-packages (from cffi>=1.0.1->argon2-cffi-bindings->argon2-cffi->notebook==6.5.5->google-colab) (2.22)\n",
      "Installing collected packages: jedi\n",
      "Successfully installed jedi-0.19.1\n"
     ]
    }
   ],
   "source": [
    "# !pip install google-colab"
   ]
  },
  {
   "cell_type": "code",
   "execution_count": null,
   "metadata": {
    "colab": {
     "base_uri": "https://localhost:8080/"
    },
    "id": "Uhd9cQIAuLkm",
    "outputId": "0970c019-ec2c-47d9-9dca-45eb60b308ef"
   },
   "outputs": [
    {
     "name": "stdout",
     "output_type": "stream",
     "text": [
      "Requirement already satisfied: google-auth in /usr/local/lib/python3.10/dist-packages (2.27.0)\n",
      "Requirement already satisfied: cachetools<6.0,>=2.0.0 in /usr/local/lib/python3.10/dist-packages (from google-auth) (5.3.3)\n",
      "Requirement already satisfied: pyasn1-modules>=0.2.1 in /usr/local/lib/python3.10/dist-packages (from google-auth) (0.4.0)\n",
      "Requirement already satisfied: rsa<5,>=3.1.4 in /usr/local/lib/python3.10/dist-packages (from google-auth) (4.9)\n",
      "Requirement already satisfied: pyasn1<0.7.0,>=0.4.6 in /usr/local/lib/python3.10/dist-packages (from pyasn1-modules>=0.2.1->google-auth) (0.6.0)\n"
     ]
    }
   ],
   "source": [
    "# !pip install google-auth"
   ]
  },
  {
   "cell_type": "markdown",
   "metadata": {
    "id": "KhdjXDCDgaWs"
   },
   "source": [
    "## Importing Libraries\n"
   ]
  },
  {
   "cell_type": "code",
   "execution_count": 2,
   "metadata": {
    "id": "8o-7N6mIgOLX"
   },
   "outputs": [],
   "source": [
    "import numpy as np\n",
    "import pandas as pd\n",
    "import matplotlib.pyplot as plt"
   ]
  },
  {
   "cell_type": "markdown",
   "metadata": {},
   "source": [
    "## Importing Dataset"
   ]
  },
  {
   "cell_type": "code",
   "execution_count": 3,
   "metadata": {
    "id": "QJ3UsdBjgmkF"
   },
   "outputs": [],
   "source": [
    "df = pd.read_csv(\"D:/03_Projects/18_btp_minor_6/data/textDatasets/ACI-IoT-2023/ACI-IoT-2023.csv\")"
   ]
  },
  {
   "cell_type": "code",
   "execution_count": 4,
   "metadata": {
    "id": "DKitNsn9hfTn"
   },
   "outputs": [],
   "source": [
    "df_new = df[['Flow Duration', 'Total Fwd Packet', 'Total Bwd packets', \n",
    "             'Total Length of Fwd Packet', 'Total Length of Bwd Packet', \n",
    "             'Fwd Packet Length Max', 'Fwd Packet Length Min', 'Fwd Packet Length Mean',\n",
    "             'Fwd Packet Length Std', 'Bwd Packet Length Max', 'Bwd Packet Length Min', \n",
    "             'Bwd Packet Length Mean', 'Bwd Packet Length Std', 'Flow IAT Mean', \n",
    "             'Flow IAT Std', 'Flow IAT Max', 'Flow IAT Min', \n",
    "             'Fwd IAT Total', 'Fwd IAT Mean', 'Fwd IAT Std', \n",
    "             'Fwd IAT Max', 'Fwd IAT Min', 'Bwd IAT Total', \n",
    "             'Bwd IAT Mean', 'Bwd IAT Std', 'Bwd IAT Max', \n",
    "             'Bwd IAT Min', 'Fwd PSH Flags', 'Bwd PSH Flags', \n",
    "             'Fwd URG Flags', 'Bwd URG Flags', 'Fwd Header Length', \n",
    "             'Bwd Header Length', 'Fwd Packets/s', 'Bwd Packets/s', \n",
    "             'Packet Length Min', 'Packet Length Max', 'Packet Length Mean', \n",
    "             'Packet Length Std', 'Packet Length Variance', 'FIN Flag Count',\n",
    "             'SYN Flag Count', 'RST Flag Count', 'ACK Flag Count', \n",
    "             'URG Flag Count', 'CWR Flag Count', 'ECE Flag Count', \n",
    "             'Average Packet Size', 'Fwd Segment Size Avg', 'Bwd Segment Size Avg',\n",
    "             'Fwd Bytes/Bulk Avg', 'Fwd Packet/Bulk Avg', 'Fwd Bulk Rate Avg', \n",
    "             'Bwd Bytes/Bulk Avg', 'Bwd Packet/Bulk Avg', 'Bwd Bulk Rate Avg', \n",
    "             'Subflow Fwd Packets', 'Subflow Fwd Bytes', 'Subflow Bwd Packets', \n",
    "             'Subflow Bwd Bytes', 'Bwd Init Win Bytes', 'Fwd Act Data Pkts',\n",
    "             'Fwd Seg Size Min', 'Active Mean', 'Active Std', 'Active Max',\n",
    "             'Active Min', 'Idle Mean', 'Idle Std', \n",
    "             'Idle Max', 'Idle Min', 'Label']]"
   ]
  },
  {
   "cell_type": "code",
   "execution_count": 5,
   "metadata": {},
   "outputs": [],
   "source": [
    "df_new = df_new.rename(columns = {'Flow Duration': 'Flow Duration', 'Total Fwd Packet': 'Tot_Fwd_Pkts', 'Total Bwd packets': 'Tot_Bwd_Pkts', \n",
    "                                  'Total Length of Fwd Packet': 'TotLen_Fwd_Pkts', 'Total Length of Bwd Packet': 'TotLen_Bwd_Pkts', 'Fwd Packet Length Max': 'Fwd_Pkt_Len_Max',\n",
    "                                  'Fwd Packet Length Min': 'Fwd_Pkt_Len_Min', 'Fwd Packet Length Mean': 'Fwd_Pkt_Len_Mean', 'Fwd Packet Length Std': 'Fwd_Pkt_Len_Std',\n",
    "                                  'Bwd Packet Length Max': 'Bwd_Pkt_Len_Max', 'Bwd Packet Length Min': 'Bwd_Pkt_Len_Min', 'Bwd Packet Length Mean': 'Bwd_Pkt_Len_Mean',\n",
    "                                  'Bwd Packet Length Std': 'Bwd_Pkt_Len_Std', 'Flow IAT Mean': 'Flow_IAT_Mean',  'Flow IAT Std': 'Flow_IAT_Std', \n",
    "                                  'Flow IAT Max': 'Flow_IAT_Max',  'Flow IAT Min': 'Flow_IAT_Min', 'Fwd IAT Total': 'Fwd_IAT_Tot', \n",
    "                                  'Fwd IAT Mean': 'Fwd_IAT_Mean', 'Fwd IAT Std': 'Fwd_IAT_Std', 'Fwd IAT Max': 'Fwd_IAT_Max',\n",
    "                                  'Fwd IAT Min': 'Fwd_IAT_Min', 'Bwd IAT Total': 'Bwd_IAT_Tot', 'Bwd IAT Mean': 'Bwd_IAT_Mean', \n",
    "                                  'Bwd IAT Std': 'Bwd_IAT_Std', 'Bwd IAT Max': 'Bwd_IAT_Max', 'Bwd IAT Min': 'Bwd_IAT_Min',\n",
    "                                  'Fwd PSH Flags': 'Fwd_PSH_Flags', 'Bwd PSH Flags': 'Bwd_PSH_Flags', 'Fwd URG Flags': 'Fwd_URG_Flags',\n",
    "                                  'Bwd URG Flags': 'Bwd_URG_Flags', 'Fwd Header Length': 'Fwd_Header_Len', 'Bwd Header Length': 'Bwd_Header_Len',\n",
    "                                  'Fwd Packets/s': 'Fwd_Pkts/s', 'Bwd Packets/s': 'Bwd_Pkts/s', 'Packet Length Min': 'Pkt_Len_Min', \n",
    "                                  'Packet Length Max': 'Pkt_Len_Max', 'Packet Length Mean': 'Pkt_Len_Mean', 'Packet Length Std': 'Pkt_Len_Std',\n",
    "                                  'Packet Length Variance': 'Pkt_Len_Var', 'FIN Flag Count': 'FIN_Flag_Cnt', 'SYN Flag Count': 'SYN_Flag_Cnt',\n",
    "                                  'RST Flag Count': 'RST_Flag_Cnt', 'ACK Flag Count': 'ACK_Flag_Cnt', 'URG Flag Count': 'URG_Flag_Cnt',\n",
    "                                  'CWR Flag Count': 'CWE_Flag_Count', 'ECE Flag Count': 'ECE_Flag_Cnt', 'Average Packet Size': 'Pkt_Size_Avg',\n",
    "                                  'Fwd Segment Size Avg': 'Fwd_Seg_Size_Avg', 'Bwd Segment Size Avg': 'Bwd_Seg_Size_Avg', 'Fwd Bytes/Bulk Avg': 'Fwd_Byts/b_Avg',\n",
    "                                  'Fwd Packet/Bulk Avg': 'Fwd_Pkts/b_Avg', 'Fwd Bulk Rate Avg': 'Fwd_Blk_Rate_Avg', 'Bwd Bytes/Bulk Avg': 'Bwd_Byts/b_Avg',\n",
    "                                  'Bwd Packet/Bulk Avg': 'Bwd_Pkts/b_Avg', 'Bwd Bulk Rate Avg': 'Bwd_Blk_Rate_Avg', 'Subflow Fwd Packets': 'Subflow_Fwd_Pkts',\n",
    "                                  'Subflow Fwd Bytes': 'Subflow_Fwd_Byts', 'Subflow Bwd Packets': 'Subflow_Bwd_Pkts', 'Subflow Bwd Bytes': 'Subflow_Bwd_Byts',\n",
    "                                  'Bwd Init Win Bytes': 'Init_Bwd_Win_Byts', 'Fwd Act Data Pkts': 'Fwd_Act_Data_Pkts', 'Fwd Seg Size Min': 'Fwd_Seg_Size_Min', \n",
    "                                  'Active Mean': 'Active_Mean', 'Active Std': 'Active_Std', 'Active Max': 'Active_Max', \n",
    "                                  'Active Min': 'Active_Min', 'Idle Mean': 'Idle_Mean', 'Idle Std': 'Idle_Std', \n",
    "                                  'Idle Max': 'Idle_Max', 'Idle Min': 'Idle_Min', 'Label': 'Label'})"
   ]
  },
  {
   "cell_type": "code",
   "execution_count": 6,
   "metadata": {},
   "outputs": [
    {
     "data": {
      "text/plain": [
       "Index(['Flow Duration', 'Tot_Fwd_Pkts', 'Tot_Bwd_Pkts', 'TotLen_Fwd_Pkts',\n",
       "       'TotLen_Bwd_Pkts', 'Fwd_Pkt_Len_Max', 'Fwd_Pkt_Len_Min',\n",
       "       'Fwd_Pkt_Len_Mean', 'Fwd_Pkt_Len_Std', 'Bwd_Pkt_Len_Max',\n",
       "       'Bwd_Pkt_Len_Min', 'Bwd_Pkt_Len_Mean', 'Bwd_Pkt_Len_Std',\n",
       "       'Flow_IAT_Mean', 'Flow_IAT_Std', 'Flow_IAT_Max', 'Flow_IAT_Min',\n",
       "       'Fwd_IAT_Tot', 'Fwd_IAT_Mean', 'Fwd_IAT_Std', 'Fwd_IAT_Max',\n",
       "       'Fwd_IAT_Min', 'Bwd_IAT_Tot', 'Bwd_IAT_Mean', 'Bwd_IAT_Std',\n",
       "       'Bwd_IAT_Max', 'Bwd_IAT_Min', 'Fwd_PSH_Flags', 'Bwd_PSH_Flags',\n",
       "       'Fwd_URG_Flags', 'Bwd_URG_Flags', 'Fwd_Header_Len', 'Bwd_Header_Len',\n",
       "       'Fwd_Pkts/s', 'Bwd_Pkts/s', 'Pkt_Len_Min', 'Pkt_Len_Max',\n",
       "       'Pkt_Len_Mean', 'Pkt_Len_Std', 'Pkt_Len_Var', 'FIN_Flag_Cnt',\n",
       "       'SYN_Flag_Cnt', 'RST_Flag_Cnt', 'ACK_Flag_Cnt', 'URG_Flag_Cnt',\n",
       "       'CWE_Flag_Count', 'ECE_Flag_Cnt', 'Pkt_Size_Avg', 'Fwd_Seg_Size_Avg',\n",
       "       'Bwd_Seg_Size_Avg', 'Fwd_Byts/b_Avg', 'Fwd_Pkts/b_Avg',\n",
       "       'Fwd_Blk_Rate_Avg', 'Bwd_Byts/b_Avg', 'Bwd_Pkts/b_Avg',\n",
       "       'Bwd_Blk_Rate_Avg', 'Subflow_Fwd_Pkts', 'Subflow_Fwd_Byts',\n",
       "       'Subflow_Bwd_Pkts', 'Subflow_Bwd_Byts', 'Init_Bwd_Win_Byts',\n",
       "       'Fwd_Act_Data_Pkts', 'Fwd_Seg_Size_Min', 'Active_Mean', 'Active_Std',\n",
       "       'Active_Max', 'Active_Min', 'Idle_Mean', 'Idle_Std', 'Idle_Max',\n",
       "       'Idle_Min', 'Label'],\n",
       "      dtype='object')"
      ]
     },
     "execution_count": 6,
     "metadata": {},
     "output_type": "execute_result"
    }
   ],
   "source": [
    "df_new.columns"
   ]
  },
  {
   "cell_type": "code",
   "execution_count": 7,
   "metadata": {
    "colab": {
     "base_uri": "https://localhost:8080/"
    },
    "id": "5QRJpntg7Omb",
    "outputId": "ceef5465-dc6d-4d54-d8a3-c07107b9573c"
   },
   "outputs": [
    {
     "name": "stdout",
     "output_type": "stream",
     "text": [
      "<class 'pandas.core.frame.DataFrame'>\n",
      "RangeIndex: 1231411 entries, 0 to 1231410\n",
      "Data columns (total 85 columns):\n",
      " #   Column                      Non-Null Count    Dtype  \n",
      "---  ------                      --------------    -----  \n",
      " 0   Flow ID                     1231411 non-null  object \n",
      " 1   Src IP                      1231411 non-null  object \n",
      " 2   Src Port                    1231411 non-null  int64  \n",
      " 3   Dst IP                      1231411 non-null  object \n",
      " 4   Dst Port                    1231411 non-null  int64  \n",
      " 5   Protocol                    1231411 non-null  int64  \n",
      " 6   Timestamp                   1231411 non-null  object \n",
      " 7   Flow Duration               1231411 non-null  int64  \n",
      " 8   Total Fwd Packet            1231411 non-null  int64  \n",
      " 9   Total Bwd packets           1231411 non-null  int64  \n",
      " 10  Total Length of Fwd Packet  1231411 non-null  float64\n",
      " 11  Total Length of Bwd Packet  1231411 non-null  float64\n",
      " 12  Fwd Packet Length Max       1231411 non-null  float64\n",
      " 13  Fwd Packet Length Min       1231411 non-null  float64\n",
      " 14  Fwd Packet Length Mean      1231411 non-null  float64\n",
      " 15  Fwd Packet Length Std       1231411 non-null  float64\n",
      " 16  Bwd Packet Length Max       1231411 non-null  float64\n",
      " 17  Bwd Packet Length Min       1231411 non-null  float64\n",
      " 18  Bwd Packet Length Mean      1231411 non-null  float64\n",
      " 19  Bwd Packet Length Std       1231411 non-null  float64\n",
      " 20  Flow Bytes/s                1230402 non-null  float64\n",
      " 21  Flow Packets/s              1231411 non-null  float64\n",
      " 22  Flow IAT Mean               1231411 non-null  float64\n",
      " 23  Flow IAT Std                1231411 non-null  float64\n",
      " 24  Flow IAT Max                1231411 non-null  float64\n",
      " 25  Flow IAT Min                1231411 non-null  float64\n",
      " 26  Fwd IAT Total               1231411 non-null  float64\n",
      " 27  Fwd IAT Mean                1231411 non-null  float64\n",
      " 28  Fwd IAT Std                 1231411 non-null  float64\n",
      " 29  Fwd IAT Max                 1231411 non-null  float64\n",
      " 30  Fwd IAT Min                 1231411 non-null  float64\n",
      " 31  Bwd IAT Total               1231411 non-null  float64\n",
      " 32  Bwd IAT Mean                1231411 non-null  float64\n",
      " 33  Bwd IAT Std                 1231411 non-null  float64\n",
      " 34  Bwd IAT Max                 1231411 non-null  float64\n",
      " 35  Bwd IAT Min                 1231411 non-null  float64\n",
      " 36  Fwd PSH Flags               1231411 non-null  int64  \n",
      " 37  Bwd PSH Flags               1231411 non-null  int64  \n",
      " 38  Fwd URG Flags               1231411 non-null  int64  \n",
      " 39  Bwd URG Flags               1231411 non-null  int64  \n",
      " 40  Fwd Header Length           1231411 non-null  int64  \n",
      " 41  Bwd Header Length           1231411 non-null  int64  \n",
      " 42  Fwd Packets/s               1231411 non-null  float64\n",
      " 43  Bwd Packets/s               1231411 non-null  float64\n",
      " 44  Packet Length Min           1231411 non-null  float64\n",
      " 45  Packet Length Max           1231411 non-null  float64\n",
      " 46  Packet Length Mean          1231411 non-null  float64\n",
      " 47  Packet Length Std           1231411 non-null  float64\n",
      " 48  Packet Length Variance      1231411 non-null  float64\n",
      " 49  FIN Flag Count              1231411 non-null  int64  \n",
      " 50  SYN Flag Count              1231411 non-null  int64  \n",
      " 51  RST Flag Count              1231411 non-null  int64  \n",
      " 52  PSH Flag Count              1231411 non-null  int64  \n",
      " 53  ACK Flag Count              1231411 non-null  int64  \n",
      " 54  URG Flag Count              1231411 non-null  int64  \n",
      " 55  CWR Flag Count              1231411 non-null  int64  \n",
      " 56  ECE Flag Count              1231411 non-null  int64  \n",
      " 57  Down/Up Ratio               1231411 non-null  float64\n",
      " 58  Average Packet Size         1231411 non-null  float64\n",
      " 59  Fwd Segment Size Avg        1231411 non-null  float64\n",
      " 60  Bwd Segment Size Avg        1231411 non-null  float64\n",
      " 61  Fwd Bytes/Bulk Avg          1231411 non-null  int64  \n",
      " 62  Fwd Packet/Bulk Avg         1231411 non-null  int64  \n",
      " 63  Fwd Bulk Rate Avg           1231411 non-null  int64  \n",
      " 64  Bwd Bytes/Bulk Avg          1231411 non-null  int64  \n",
      " 65  Bwd Packet/Bulk Avg         1231411 non-null  int64  \n",
      " 66  Bwd Bulk Rate Avg           1231411 non-null  int64  \n",
      " 67  Subflow Fwd Packets         1231411 non-null  int64  \n",
      " 68  Subflow Fwd Bytes           1231411 non-null  int64  \n",
      " 69  Subflow Bwd Packets         1231411 non-null  int64  \n",
      " 70  Subflow Bwd Bytes           1231411 non-null  int64  \n",
      " 71  FWD Init Win Bytes          1231411 non-null  int64  \n",
      " 72  Bwd Init Win Bytes          1231411 non-null  int64  \n",
      " 73  Fwd Act Data Pkts           1231411 non-null  int64  \n",
      " 74  Fwd Seg Size Min            1231411 non-null  int64  \n",
      " 75  Active Mean                 1231411 non-null  float64\n",
      " 76  Active Std                  1231411 non-null  float64\n",
      " 77  Active Max                  1231411 non-null  float64\n",
      " 78  Active Min                  1231411 non-null  float64\n",
      " 79  Idle Mean                   1231411 non-null  float64\n",
      " 80  Idle Std                    1231411 non-null  float64\n",
      " 81  Idle Max                    1231411 non-null  float64\n",
      " 82  Idle Min                    1231411 non-null  float64\n",
      " 83  Label                       1231411 non-null  object \n",
      " 84  Connection Type             1231411 non-null  object \n",
      "dtypes: float64(45), int64(34), object(6)\n",
      "memory usage: 798.6+ MB\n"
     ]
    }
   ],
   "source": [
    "df.info()"
   ]
  },
  {
   "cell_type": "markdown",
   "metadata": {
    "id": "_udBoDx5hqDJ"
   },
   "source": [
    "## Dividing the data into Normal and Anomaly"
   ]
  },
  {
   "cell_type": "code",
   "execution_count": 8,
   "metadata": {
    "id": "OTC2orYYhwB1"
   },
   "outputs": [],
   "source": [
    "# df[\"AttackStatus\"] = df.apply(lambda row: 'Normal' if row.Label == 'Benign' else 'Anomaly', axis = 1)"
   ]
  },
  {
   "cell_type": "code",
   "execution_count": 8,
   "metadata": {
    "colab": {
     "base_uri": "https://localhost:8080/",
     "height": 203
    },
    "id": "VRDZHcuI7puw",
    "outputId": "b7841f55-4c79-4c82-e6ca-74359a443fd8"
   },
   "outputs": [
    {
     "data": {
      "text/plain": [
       "<bound method Series.sum of Label\n",
       "Port Scan             441282\n",
       "Benign                329295\n",
       "ICMP Flood            225234\n",
       "Ping Sweep             71928\n",
       "DNS Flood              46935\n",
       "Vulnerability Scan     39537\n",
       "OS Scan                37524\n",
       "Slowloris              18643\n",
       "SYN Flood              13857\n",
       "Dictionary Attack       6380\n",
       "UDP Flood                791\n",
       "ARP Spoofing               5\n",
       "Name: count, dtype: int64>"
      ]
     },
     "execution_count": 8,
     "metadata": {},
     "output_type": "execute_result"
    }
   ],
   "source": [
    "df['Label'].value_counts().sum"
   ]
  },
  {
   "cell_type": "code",
   "execution_count": 9,
   "metadata": {
    "id": "iIsNKlO07zFE"
   },
   "outputs": [],
   "source": [
    "df_new = df_new.fillna(0)  # Replace NaN with 0\n",
    "df_new = df_new.replace([np.inf, -np.inf], 0)\n",
    "# df_new[\"AttackStatus\"] = df_new.apply(lambda row: 1 if row.Label == 'Benign' else 0, axis = 1)"
   ]
  },
  {
   "cell_type": "code",
   "execution_count": 10,
   "metadata": {
    "colab": {
     "base_uri": "https://localhost:8080/"
    },
    "id": "QwZPYIpw725b",
    "outputId": "1ddf5705-2bb4-411a-8785-4c0dc5e1a4c4"
   },
   "outputs": [
    {
     "data": {
      "text/plain": [
       "Flow Duration      0\n",
       "Tot_Fwd_Pkts       0\n",
       "Tot_Bwd_Pkts       0\n",
       "TotLen_Fwd_Pkts    0\n",
       "TotLen_Bwd_Pkts    0\n",
       "                  ..\n",
       "Idle_Mean          0\n",
       "Idle_Std           0\n",
       "Idle_Max           0\n",
       "Idle_Min           0\n",
       "Label              0\n",
       "Length: 72, dtype: int64"
      ]
     },
     "execution_count": 10,
     "metadata": {},
     "output_type": "execute_result"
    }
   ],
   "source": [
    "df_new.isnull().sum()"
   ]
  },
  {
   "cell_type": "code",
   "execution_count": 12,
   "metadata": {
    "id": "E7cmsn-M74O0"
   },
   "outputs": [],
   "source": [
    "from sklearn.feature_selection import SelectKBest, f_classif\n",
    "X = df_new.drop('Label', axis=1)\n",
    "y = df_new['Label']"
   ]
  },
  {
   "cell_type": "code",
   "execution_count": 13,
   "metadata": {
    "colab": {
     "base_uri": "https://localhost:8080/"
    },
    "id": "ONRTIiI37-Jz",
    "outputId": "5e87e519-b177-488e-fbf7-ed9857756d03"
   },
   "outputs": [
    {
     "name": "stdout",
     "output_type": "stream",
     "text": [
      "         Flow Duration  Tot_Fwd_Pkts  Tot_Bwd_Pkts  TotLen_Fwd_Pkts  \\\n",
      "0               379933            11            11            720.0   \n",
      "1               205637             3             3             87.0   \n",
      "2                    0             2             0              0.0   \n",
      "3              5030379             1             2              6.0   \n",
      "4                72278             3             4             87.0   \n",
      "...                ...           ...           ...              ...   \n",
      "1231406              1             2             0             12.0   \n",
      "1231407       50077229             4             2            140.0   \n",
      "1231408       46365348            15             0              0.0   \n",
      "1231409         146262            15            37          20340.0   \n",
      "1231410           2749             1             1              0.0   \n",
      "\n",
      "         TotLen_Bwd_Pkts  Fwd_Pkt_Len_Max  Fwd_Pkt_Len_Min  Fwd_Pkt_Len_Mean  \\\n",
      "0                 6169.0            517.0              0.0         65.454545   \n",
      "1                  189.0             87.0              0.0         29.000000   \n",
      "2                    0.0              0.0              0.0          0.000000   \n",
      "3                    0.0              6.0              6.0          6.000000   \n",
      "4                  148.0             87.0              0.0         29.000000   \n",
      "...                  ...              ...              ...               ...   \n",
      "1231406              0.0              6.0              6.0          6.000000   \n",
      "1231407            390.0             70.0              0.0         35.000000   \n",
      "1231408              0.0              0.0              0.0          0.000000   \n",
      "1231409          14242.0           9327.0              0.0       1356.000000   \n",
      "1231410              6.0              0.0              0.0          0.000000   \n",
      "\n",
      "         Fwd_Pkt_Len_Std  Bwd_Pkt_Len_Max  ...  Fwd_Act_Data_Pkts  \\\n",
      "0             154.291519           2736.0  ...                  4   \n",
      "1              50.229473            189.0  ...                  1   \n",
      "2               0.000000              0.0  ...                  0   \n",
      "3               0.000000              0.0  ...                  0   \n",
      "4              50.229473            148.0  ...                  1   \n",
      "...                  ...              ...  ...                ...   \n",
      "1231406         0.000000              0.0  ...                  1   \n",
      "1231407        40.414519            195.0  ...                  1   \n",
      "1231408         0.000000              0.0  ...                  0   \n",
      "1231409      2831.693688           5949.0  ...                 14   \n",
      "1231410         0.000000              6.0  ...                  0   \n",
      "\n",
      "         Fwd_Seg_Size_Min   Active_Mean    Active_Std  Active_Max  Active_Min  \\\n",
      "0                      32  0.000000e+00  0.000000e+00         0.0         0.0   \n",
      "1                      32  0.000000e+00  0.000000e+00         0.0         0.0   \n",
      "2                      32  0.000000e+00  0.000000e+00         0.0         0.0   \n",
      "3                      20  0.000000e+00  0.000000e+00         0.0         0.0   \n",
      "4                      32  0.000000e+00  0.000000e+00         0.0         0.0   \n",
      "...                   ...           ...           ...         ...         ...   \n",
      "1231406                20  0.000000e+00  0.000000e+00         0.0         0.0   \n",
      "1231407                32  7.708200e+04  0.000000e+00     77082.0     77082.0   \n",
      "1231408                 0  3.713166e+06  3.789721e+06   8045778.0   1014561.0   \n",
      "1231409                20  0.000000e+00  0.000000e+00         0.0         0.0   \n",
      "1231410                20  0.000000e+00  0.000000e+00         0.0         0.0   \n",
      "\n",
      "            Idle_Mean      Idle_Std      Idle_Max      Idle_Min  \n",
      "0        1.698846e+15  0.000000e+00  1.698846e+15  1.698846e+15  \n",
      "1        1.698846e+15  0.000000e+00  1.698846e+15  1.698846e+15  \n",
      "2        1.698846e+15  0.000000e+00  1.698846e+15  1.698846e+15  \n",
      "3        8.494231e+14  1.201266e+15  1.698846e+15  5.030379e+06  \n",
      "4        1.698846e+15  0.000000e+00  1.698846e+15  1.698846e+15  \n",
      "...               ...           ...           ...           ...  \n",
      "1231406  1.698946e+15  0.000000e+00  1.698946e+15  1.698946e+15  \n",
      "1231407  8.494730e+14  1.201336e+15  1.698946e+15  4.992308e+07  \n",
      "1231408  4.247365e+14  8.494730e+14  1.698946e+15  6.831749e+06  \n",
      "1231409  1.698946e+15  0.000000e+00  1.698946e+15  1.698946e+15  \n",
      "1231410  1.698946e+15  0.000000e+00  1.698946e+15  1.698946e+15  \n",
      "\n",
      "[1231411 rows x 71 columns]\n"
     ]
    }
   ],
   "source": [
    "print(X)"
   ]
  },
  {
   "cell_type": "code",
   "execution_count": 14,
   "metadata": {},
   "outputs": [],
   "source": [
    "from sklearn.preprocessing import MinMaxScaler"
   ]
  },
  {
   "cell_type": "code",
   "execution_count": 15,
   "metadata": {},
   "outputs": [],
   "source": [
    "min_max_scaler = MinMaxScaler()"
   ]
  },
  {
   "cell_type": "code",
   "execution_count": 16,
   "metadata": {},
   "outputs": [],
   "source": [
    "X = min_max_scaler.fit_transform(X=X, y=None)"
   ]
  },
  {
   "cell_type": "code",
   "execution_count": 17,
   "metadata": {},
   "outputs": [
    {
     "name": "stdout",
     "output_type": "stream",
     "text": [
      "[[6.23389546e-03 1.34809043e-04 1.51786946e-04 ... 0.00000000e+00\n",
      "  4.78325236e-01 9.99887434e-01]\n",
      " [3.37406743e-03 2.69618086e-05 4.13964399e-05 ... 0.00000000e+00\n",
      "  4.78354469e-01 9.99887440e-01]\n",
      " [0.00000000e+00 1.34809043e-05 0.00000000e+00 ... 0.00000000e+00\n",
      "  4.78355043e-01 9.99887440e-01]\n",
      " ...\n",
      " [7.60757113e-01 1.88732660e-04 0.00000000e+00 ... 7.07068743e-01\n",
      "  7.50616570e-01 1.07810924e-09]\n",
      " [2.39984949e-03 1.88732660e-04 5.10556092e-04 ... 0.00000000e+00\n",
      "  7.50643042e-01 9.99946194e-01]\n",
      " [4.51052649e-05 0.00000000e+00 1.37988133e-05 ... 0.00000000e+00\n",
      "  7.50730324e-01 9.99946213e-01]]\n"
     ]
    }
   ],
   "source": [
    "print(X)"
   ]
  },
  {
   "cell_type": "markdown",
   "metadata": {
    "id": "fghjF1Ui8CpM"
   },
   "source": [
    "## Applying Standardization"
   ]
  },
  {
   "cell_type": "code",
   "execution_count": 14,
   "metadata": {
    "id": "1XCopz638AAJ"
   },
   "outputs": [],
   "source": [
    "# from sklearn.preprocessing import StandardScaler\n",
    "# scaler = StandardScaler()\n",
    "# X = np.array(scaler.fit_transform(X))"
   ]
  },
  {
   "cell_type": "code",
   "execution_count": 15,
   "metadata": {},
   "outputs": [
    {
     "name": "stdout",
     "output_type": "stream",
     "text": [
      "[[-0.40870784  0.03046147  0.02544582 ... -0.49947828  0.69858636\n",
      "   0.50442532]\n",
      " [-0.42337588 -0.01349465 -0.01116542 ... -0.49947828  0.69868414\n",
      "   0.50442533]\n",
      " [-0.44068144 -0.01898917 -0.02489464 ... -0.49947828  0.69868605\n",
      "   0.50442533]\n",
      " ...\n",
      " [ 3.46123595  0.05243954 -0.02489464 ...  1.3384439   1.60931082\n",
      "  -1.98300592]\n",
      " [-0.42837263  0.05243954  0.14443235 ... -0.49947828  1.60939936\n",
      "   0.5045715 ]\n",
      " [-0.4404501  -0.02448369 -0.02031823 ... -0.49947828  1.60969128\n",
      "   0.50457154]]\n"
     ]
    }
   ],
   "source": [
    "# print(X)"
   ]
  },
  {
   "cell_type": "markdown",
   "metadata": {},
   "source": [
    "### Hot label Encoding"
   ]
  },
  {
   "cell_type": "code",
   "execution_count": 18,
   "metadata": {},
   "outputs": [
    {
     "name": "stdout",
     "output_type": "stream",
     "text": [
      "0          Benign\n",
      "1          Benign\n",
      "2          Benign\n",
      "3          Benign\n",
      "4          Benign\n",
      "            ...  \n",
      "1231406    Benign\n",
      "1231407    Benign\n",
      "1231408    Benign\n",
      "1231409    Benign\n",
      "1231410    Benign\n",
      "Name: Label, Length: 1231411, dtype: object\n"
     ]
    }
   ],
   "source": [
    "print(y)"
   ]
  },
  {
   "cell_type": "code",
   "execution_count": 19,
   "metadata": {},
   "outputs": [
    {
     "name": "stdout",
     "output_type": "stream",
     "text": [
      "['Benign' 'ICMP Flood' 'Slowloris' 'SYN Flood' 'UDP Flood' 'DNS Flood'\n",
      " 'Dictionary Attack' 'OS Scan' 'Port Scan' 'Ping Sweep'\n",
      " 'Vulnerability Scan' 'ARP Spoofing']\n"
     ]
    }
   ],
   "source": [
    "print(y.unique())"
   ]
  },
  {
   "cell_type": "code",
   "execution_count": 22,
   "metadata": {
    "colab": {
     "base_uri": "https://localhost:8080/",
     "height": 280
    },
    "id": "aLHktn1V8m8d",
    "outputId": "2e6d9716-3dac-48f1-e15d-d947aa7dbd92"
   },
   "outputs": [],
   "source": [
    "np.savetxt(\"X.csv\", X, delimiter=\",\")\n",
    "y.to_csv(\"y.csv\", index=False, header=False)"
   ]
  },
  {
   "cell_type": "code",
   "execution_count": null,
   "metadata": {},
   "outputs": [],
   "source": []
  }
 ],
 "metadata": {
  "colab": {
   "provenance": []
  },
  "kernelspec": {
   "display_name": "Python 3 (ipykernel)",
   "language": "python",
   "name": "python3"
  },
  "language_info": {
   "codemirror_mode": {
    "name": "ipython",
    "version": 3
   },
   "file_extension": ".py",
   "mimetype": "text/x-python",
   "name": "python",
   "nbconvert_exporter": "python",
   "pygments_lexer": "ipython3",
   "version": "3.11.7"
  }
 },
 "nbformat": 4,
 "nbformat_minor": 4
}
